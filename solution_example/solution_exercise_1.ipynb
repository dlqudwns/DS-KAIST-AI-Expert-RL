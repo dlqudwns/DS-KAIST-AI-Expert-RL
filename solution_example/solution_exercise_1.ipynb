{
  "nbformat": 4,
  "nbformat_minor": 0,
  "metadata": {
    "colab": {
      "name": "solution_exercise_1",
      "version": "0.3.2",
      "provenance": [],
      "collapsed_sections": []
    },
    "kernelspec": {
      "name": "python3",
      "display_name": "Python 3"
    }
  },
  "cells": [
    {
      "cell_type": "code",
      "metadata": {
        "id": "ymqWsFjhWpzp",
        "colab_type": "code",
        "colab": {}
      },
      "source": [
        "!apt-get install -y xvfb python-opengl > /dev/null 2>&1\n",
        "!pip install gym pyvirtualdisplay > /dev/null 2>&1\n",
        "!pip install pyglet==1.3.2\n",
        "\n",
        "### Animation 관련 추가 패키지 ###\n",
        "!pip install box2d-py mako==1.0.7 Pygame JSAnimation imageio"
      ],
      "execution_count": 0,
      "outputs": []
    },
    {
      "cell_type": "code",
      "metadata": {
        "id": "bmu1CLph_oK4",
        "colab_type": "code",
        "colab": {}
      },
      "source": [
        "!git clone https://github.com/secury/DS-KAIST-AI-Expert-RL.git\n",
        "!pip install pygame\n",
        "%cd DS-KAIST-AI-Expert-RL/"
      ],
      "execution_count": 0,
      "outputs": []
    },
    {
      "cell_type": "code",
      "metadata": {
        "id": "mxMSdZnRWyfv",
        "colab_type": "code",
        "colab": {}
      },
      "source": [
        "import time\n",
        "\n",
        "import gym\n",
        "import envs\n",
        "import numpy as np\n",
        "\n",
        "import matplotlib.pyplot as plt\n",
        "from IPython import display as ipythondisplay\n",
        "\n",
        "# Library related to Java Script Animation\n",
        "from matplotlib import animation\n",
        "from JSAnimation import IPython_display\n",
        "\n",
        "from pyvirtualdisplay import Display\n",
        "display = Display(visible=0, size=(1400, 900))\n",
        "display.start()"
      ],
      "execution_count": 0,
      "outputs": []
    },
    {
      "cell_type": "code",
      "metadata": {
        "id": "QQ31yW6S_wEh",
        "colab_type": "code",
        "colab": {}
      },
      "source": [
        "np.set_printoptions(precision=3, suppress=True, threshold=10000, linewidth=250)\n",
        "\n",
        "def plot_movie_js(image_array):\n",
        "    dpi = 10.0\n",
        "    xpixels, ypixels = image_array[0].shape[0], image_array[0].shape[1]\n",
        "    fig = plt.figure(figsize=(ypixels/(dpi), xpixels/(dpi)), dpi=dpi)\n",
        "    # fig.suptitle(filename, fontsize=160)\n",
        "    # fig.set_xlabel(filename, fontsize=160)\n",
        "    # fig.xlabel(filename, fontsize=160)\n",
        "    im = plt.figimage(image_array[0])\n",
        "\n",
        "    def animate(i):\n",
        "        im.set_array(image_array[i])\n",
        "        return (im,)\n",
        "    \n",
        "    anim = animation.FuncAnimation(fig, animate, frames=len(image_array))\n",
        "    ipythondisplay.display(IPython_display.display_animation(anim))\n",
        "\n",
        "\"\"\" Load environment \"\"\"\n",
        "# env_name = 'MazeSample3x3-v0'\n",
        "# env_name = 'MazeSample5x5-v0'\n",
        "# env_name = 'MazeSample10x10-v0'\n",
        "# env_name = 'MazeRandom10x10-v0'\n",
        "env_name = 'MazeRandom10x10-plus-v0'\n",
        "\n",
        "env = gym.make(env_name)\n",
        "env = env.unwrapped\n",
        "\"\"\"\n",
        "env.S: the number of states (integer)\n",
        "env.A: the number of actions (integer)\n",
        "env.T: transition matrix (S x A x S)-sized array\n",
        "env.R: reward matrix (S x A)-sized array\n",
        "env.gamma: discount factor (0 ~ 1)\n",
        "\"\"\"\n",
        "\n",
        "\n",
        "def policy_evaluation(env, pi):\n",
        "    \"\"\"\n",
        "    :param env: MDP(S, A, T, R, gamma)\n",
        "    :param pi: behavior policy (S x A)-sized array\n",
        "    :return: V, Q where V is (S)-sized array and Q is (S x A)-sized array\n",
        "    \"\"\"\n",
        "    r = np.sum(env.R * pi, axis=1)\n",
        "    P = np.tensordot(pi, env.T, axes=([1], [1]))[np.arange(env.S), np.arange(env.S), :]\n",
        "    V = np.linalg.inv(np.eye(env.S) - env.gamma * P).dot(r)\n",
        "    Q = env.R + env.gamma * env.T.dot(V)\n",
        "\n",
        "    return V, Q\n",
        "\n",
        "\n",
        "pi = np.ones((env.S, env.A)) / env.A\n",
        "\n",
        "V, Q = policy_evaluation(env, pi)\n",
        "\n",
        "env.draw_policy_evaluation(Q, pi)\n",
        "screen = env.render(mode='rgb_array')\n",
        "plot_movie_js([screen])\n",
        "time.sleep(10)"
      ],
      "execution_count": 0,
      "outputs": []
    }
  ]
}